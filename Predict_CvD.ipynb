{
 "cells": [
  {
   "cell_type": "code",
   "execution_count": 63,
   "metadata": {},
   "outputs": [],
   "source": [
    "from keras.preprocessing.image import ImageDataGenerator\n",
    "from keras.models import Sequential\n",
    "from keras.layers import Conv2D, MaxPooling2D\n",
    "from keras.layers import Activation, Dropout, Flatten, Dense\n",
    "from keras.models import load_model\n",
    "from keras.preprocessing.image import img_to_array, load_img\n",
    "import numpy as np"
   ]
  },
  {
   "cell_type": "code",
   "execution_count": 64,
   "metadata": {},
   "outputs": [],
   "source": [
    "img_width, img_height = 150, 150\n",
    "input_shape = (img_width, img_height, 3)"
   ]
  },
  {
   "cell_type": "code",
   "execution_count": 65,
   "metadata": {},
   "outputs": [],
   "source": [
    "test_model = Sequential()\n",
    "\n",
    "test_model.add(Conv2D(32, (3, 3), input_shape=input_shape))\n",
    "test_model.add(Activation('relu'))\n",
    "test_model.add(MaxPooling2D(pool_size=(2, 2)))\n",
    "\n",
    "test_model.add(Conv2D(32, (3, 3)))\n",
    "test_model.add(Activation('relu'))\n",
    "test_model.add(MaxPooling2D(pool_size=(2, 2)))\n",
    "\n",
    "test_model.add(Conv2D(64, (3, 3)))\n",
    "test_model.add(Activation('relu'))\n",
    "test_model.add(MaxPooling2D(pool_size=(2, 2)))\n",
    "\n",
    "test_model.add(Flatten())\n",
    "test_model.add(Dense(64))\n",
    "test_model.add(Activation('relu'))\n",
    "test_model.add(Dropout(0.5))\n",
    "test_model.add(Dense(1))\n",
    "test_model.add(Activation('sigmoid'))\n",
    "\n",
    "test_model = load_model('model.h5')"
   ]
  },
  {
   "cell_type": "code",
   "execution_count": 96,
   "metadata": {},
   "outputs": [
    {
     "name": "stdout",
     "output_type": "stream",
     "text": [
      "[[1]]\n",
      "[[1.]]\n",
      "done\n"
     ]
    }
   ],
   "source": [
    "path = 'Test/39.jpg'\n",
    "\n",
    "img = load_img(path, False, target_size = (img_width, img_height))\n",
    "x = img_to_array(img)\n",
    "x = np.expand_dims(x, axis=0)\n",
    "pred = test_model.predict_classes(x)\n",
    "prob = test_model.predict_proba(x)\n",
    "print(pred)\n",
    "print(prob)\n",
    "\n",
    "#predict(path, test_model)\n",
    "print('done')"
   ]
  }
 ],
 "metadata": {
  "kernelspec": {
   "display_name": "Python 3",
   "language": "python",
   "name": "python3"
  },
  "language_info": {
   "codemirror_mode": {
    "name": "ipython",
    "version": 3
   },
   "file_extension": ".py",
   "mimetype": "text/x-python",
   "name": "python",
   "nbconvert_exporter": "python",
   "pygments_lexer": "ipython3",
   "version": "3.5.2"
  }
 },
 "nbformat": 4,
 "nbformat_minor": 2
}
